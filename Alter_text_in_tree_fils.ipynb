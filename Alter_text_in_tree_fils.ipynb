{
 "cells": [
  {
   "cell_type": "code",
   "execution_count": 1,
   "id": "24b9009e",
   "metadata": {},
   "outputs": [],
   "source": [
    "import re\n",
    "\n",
    "def read_tips_file(file_path):\n",
    "    tips_dict = {}\n",
    "    with open(file_path, 'r') as tips_file:\n",
    "        for line in tips_file:\n",
    "            short_name, long_name = line.strip().split('\\t')\n",
    "            tips_dict[short_name] = long_name\n",
    "    return tips_dict\n",
    "\n",
    "def replace_names_in_text(text, tips_dict):\n",
    "    for short_name, long_name in tips_dict.items():\n",
    "        pattern = re.compile(r'\\b' + re.escape(short_name) + r'\\b')\n",
    "        text = re.sub(pattern, long_name, text)\n",
    "    return text\n",
    "\n",
    "# Replace 'input.txt' and 'tips.tsv' with your actual file paths\n",
    "input_file_path = '/Users/shrinivas/Desktop/treefile.txt'\n",
    "tips_file_path = '/Users/shrinivas/Desktop/bootstrap_treefile.tips.tsv'\n",
    "\n",
    "# Read tips file into a dictionary\n",
    "tips_dict = read_tips_file(tips_file_path)\n",
    "\n",
    "# Read text file\n",
    "with open(input_file_path, 'r') as input_file:\n",
    "    input_text = input_file.read()\n",
    "\n",
    "# Replace short names with long names\n",
    "output_text = replace_names_in_text(input_text, tips_dict)\n",
    "\n",
    "# Write the modified text back to the input file or a new file\n",
    "with open(input_file_path, 'w') as input_file:\n",
    "    input_file.write(output_text)\n"
   ]
  }
 ],
 "metadata": {
  "kernelspec": {
   "display_name": "Python 3 (ipykernel)",
   "language": "python",
   "name": "python3"
  },
  "language_info": {
   "codemirror_mode": {
    "name": "ipython",
    "version": 3
   },
   "file_extension": ".py",
   "mimetype": "text/x-python",
   "name": "python",
   "nbconvert_exporter": "python",
   "pygments_lexer": "ipython3",
   "version": "3.9.12"
  }
 },
 "nbformat": 4,
 "nbformat_minor": 5
}
